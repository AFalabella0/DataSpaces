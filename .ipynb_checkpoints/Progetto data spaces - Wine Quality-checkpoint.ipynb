{
 "cells": [
  {
   "cell_type": "markdown",
   "metadata": {},
   "source": [
    "# Wine Quality"
   ]
  },
  {
   "cell_type": "markdown",
   "metadata": {},
   "source": [
    "### Abstract"
   ]
  },
  {
   "cell_type": "markdown",
   "metadata": {},
   "source": [
    "L'obbiettivo di questo articolo è quello di proporre un approccio di data mining per predirre, in base a risultati chimici, la qualità di un vino. Le nostre analisi si basano su un modesto Dataset di vini bianchi e rossi di qualità _\"vinho verde\"_ (Vino portoghese)."
   ]
  },
  {
   "cell_type": "markdown",
   "metadata": {},
   "source": [
    "### Introduzione"
   ]
  },
  {
   "cell_type": "markdown",
   "metadata": {},
   "source": [
    "Il vino, derivato dal latino _vinum_ e una volta visto come bene di lusso, ai giorni nostri è una bevanda sempre più di largo consumo. Secondo il Rapporto 2017 dell'OIV riguardante il 2016, l'Italia è il primo produttore mondiale di vino con ben 50.9 milioni di ettolitri (19% della produzione mondiale), di cui solo 20.6 milioni di ettolitri destinati all' esportazione. A supporto delle esportazioni, le industrie vinicole investono sempre di più in nuove tecnologie sia per la preparazione del vino e sia per la vendita di esso. Le certificazioni di qualità sono un punto chiave di questo processo. Le certificazioni sono di solito composte da test fisico-chimici e sensoriali. Ricordiamo che, tra tutti i 5 sensi, il gusto è quello più soggettivo, quindi la classificazione dei vini è piuttosto complessa. Ad ogni modo la relazione tra queste due tipologie di analisi è ancora sconosciuta."
   ]
  },
  {
   "cell_type": "code",
   "execution_count": null,
   "metadata": {},
   "outputs": [],
   "source": []
  }
 ],
 "metadata": {
  "kernelspec": {
   "display_name": "Python 3",
   "language": "python",
   "name": "python3"
  },
  "language_info": {
   "codemirror_mode": {
    "name": "ipython",
    "version": 3
   },
   "file_extension": ".py",
   "mimetype": "text/x-python",
   "name": "python",
   "nbconvert_exporter": "python",
   "pygments_lexer": "ipython3",
   "version": "3.7.4"
  }
 },
 "nbformat": 4,
 "nbformat_minor": 2
}
